{
  "cells": [
    {
      "cell_type": "markdown",
      "metadata": {
        "id": "view-in-github",
        "colab_type": "text"
      },
      "source": [
        "<a href=\"https://colab.research.google.com/github/Muhammad-Alyan-Khan/Learning_Python/blob/main/04_natural_language_programming/02_ai_python_for_beginners/course1_basics/Lesson_4/Lesson_4.ipynb\" target=\"_parent\"><img src=\"https://colab.research.google.com/assets/colab-badge.svg\" alt=\"Open In Colab\"/></a>"
      ]
    },
    {
      "cell_type": "markdown",
      "metadata": {
        "id": "mXCjk62NitFW"
      },
      "source": [
        "# Lesson 4: Running your first program\n",
        "\n",
        "Now it's your turn to try running Python code!\n",
        "\n",
        "Hit the play button on the video next to this Jupyter notebook to start the video and follow along as Andrew explains how to work through this lesson."
      ]
    },
    {
      "cell_type": "markdown",
      "metadata": {
        "id": "NyzIB7DbitFb"
      },
      "source": [
        "### 1. Hello, World!\n",
        "\n",
        "Below is the code for the \"Hello, World!\" program that you saw the chatbot write in the previous video.\n",
        "\n",
        "To run the code, click anywhere into the cell (the box with the code inside), and then type `Shift` + `Enter` (`Shift` + `Return` on a Mac) to execute."
      ]
    },
    {
      "cell_type": "code",
      "execution_count": 2,
      "metadata": {
        "id": "lJlmBm04itFc",
        "outputId": "601b138e-520b-4e7f-d53b-3ba1c2f3122b",
        "colab": {
          "base_uri": "https://localhost:8080/"
        }
      },
      "outputs": [
        {
          "output_type": "stream",
          "name": "stdout",
          "text": [
            "Hello, World!\n",
            "Hello ALyan\n",
            "Abdur Rehman\n"
          ]
        }
      ],
      "source": [
        "print(\"Hello, World!\")\n",
        "print(\"Hello ALyan\")\n",
        "print(\"Abdur Rehman\")"
      ]
    },
    {
      "cell_type": "markdown",
      "metadata": {
        "id": "eA3TLMDHitFe"
      },
      "source": [
        "**Congratulations!** You have just joined the millions of people who have started their computer programming adventure by running this simple code!"
      ]
    },
    {
      "cell_type": "markdown",
      "metadata": {
        "id": "ngmtkRHzitFe"
      },
      "source": [
        "### 2. Hello, you!\n",
        "\n",
        "Let's create python code to say hello to you, instead of the world. Here are the steps to follow along with Andrew in the video:\n",
        "1. Open the chatbot\n",
        "2. Type in this prompt (substituting your name for mine)\n",
        "\n",
        "            Modify the code below to have it say hello to me.\n",
        "            \n",
        "            print(\"Hello, World!\")\n",
        "            \n",
        "            My name is Andrew\n",
        "   \n",
        "4. Paste the output code in the cell below using `Ctrl`+`V` (`Command`+`C` on a Mac)\n",
        "6. Press `Shift + Enter` to submit your prompt\n",
        "\n",
        "Once the chatbot has returned the code to you, you can copy and paste it into the cell below. Only copy the code in the black box - don't copy any conversation text that the chatbot writes."
      ]
    },
    {
      "cell_type": "code",
      "source": [
        "# prompt: Modify the code below to have it say hello to me.\n",
        "#      print(\"Hello, World!\")\n",
        "#      My name is Abdur Rehman\n",
        "\n",
        "print(\"Hello, Abdur Rehman!\")\n"
      ],
      "metadata": {
        "id": "RFgq_rt0kpgM",
        "outputId": "c315c152-4816-42f6-be85-7e5c3d20e643",
        "colab": {
          "base_uri": "https://localhost:8080/"
        }
      },
      "execution_count": 4,
      "outputs": [
        {
          "output_type": "stream",
          "name": "stdout",
          "text": [
            "Hello, Abdur Rehman!\n"
          ]
        }
      ]
    },
    {
      "cell_type": "code",
      "execution_count": null,
      "metadata": {
        "id": "wf3idq0hitFf"
      },
      "outputs": [],
      "source": [
        "# PASTE CODE FROM CHATBOT ON THE NEXT LINE IN THIS CELL\n"
      ]
    },
    {
      "cell_type": "markdown",
      "metadata": {
        "id": "A_3zOAaEitFg"
      },
      "source": [
        "You should see Python print out \"Hello,\" followed by your name above.\n",
        "\n",
        "One other thing to notice here - when you run a code cell, the little square brackets to the left of the cell will change to a number."
      ]
    },
    {
      "cell_type": "markdown",
      "metadata": {
        "id": "mlEca1pMitFg"
      },
      "source": [
        "### 3. Say hello to someone you love!\n",
        "\n",
        "Copy and paste (or just type out directly) the \"Hello, World!\" code in the cell below. Then modify the text between the quotation to say hello to your best friend, or favorite pet, or anyone else you love!"
      ]
    },
    {
      "cell_type": "code",
      "source": [],
      "metadata": {
        "id": "qJKV1QIolFdL"
      },
      "execution_count": null,
      "outputs": []
    },
    {
      "cell_type": "code",
      "execution_count": 5,
      "metadata": {
        "id": "I4fcWNJRitFh",
        "outputId": "cd33365d-c45f-4b89-9408-882b4386ee02",
        "colab": {
          "base_uri": "https://localhost:8080/"
        }
      },
      "outputs": [
        {
          "output_type": "stream",
          "name": "stdout",
          "text": [
            "Hello Bushra\n"
          ]
        }
      ],
      "source": [
        "# ADD YOUR CODE ON THE NEXT LINE\n",
        "\n",
        "print(\"Hello Bushra\")\n"
      ]
    },
    {
      "cell_type": "markdown",
      "metadata": {
        "id": "dQVY2-j_itFh"
      },
      "source": [
        "### 4. Comments in code\n",
        "You may be wondering what the text is in the cells above that starts with the `#` hash or pound symbol. This is a comment line. It tells Python that it can ignore anything that follows on that line after the `#` symbol. Comments are used to help other humans understand what your code does.\n",
        "\n",
        "Try running the next cell by pressing `Shift`+`Enter` - what do you think will happen?"
      ]
    },
    {
      "cell_type": "code",
      "execution_count": 8,
      "metadata": {
        "id": "hKC2qlGCitFi"
      },
      "outputs": [],
      "source": [
        "# THIS IS A COMMENT - PYTHON WILL IGNORE THIS LINE\n",
        "\n",
        "\n",
        "#print(\"Hello, Abdur Rehman!\")\n",
        "#print(\"Hello, Abdur Rehman!\")\n",
        "\n"
      ]
    },
    {
      "cell_type": "markdown",
      "metadata": {
        "id": "oUM2FuaJitFi"
      },
      "source": [
        "The cell above runs just like the code you ran before - you saw the `*` appear to the left of the cell, and then change to a number. But this time nothing appeared on the screen.`\n",
        "\n",
        "A comment line is a valid piece of Python code. It tells Python to ignore what follows. Here, Python followed that command exactly, running the code, ignoring the text, and because the code had no output to return to you, it seemed like \"nothing happened.\"\n",
        "\n",
        "Click into the cell below and click `Shift`+`Enter` to run the code - make sure to ask yourself what you think will happen first, and then see if you were right."
      ]
    },
    {
      "cell_type": "code",
      "execution_count": null,
      "metadata": {
        "id": "zpykOspzitFi"
      },
      "outputs": [],
      "source": [
        "print(\"This is a print statement!\")"
      ]
    },
    {
      "cell_type": "markdown",
      "metadata": {
        "id": "6xS5s0J2itFi"
      },
      "source": [
        "Now click into the cell again and type a `#` at the start of the line. What do you think this change will result in? Run the cell by pressing `Shift` + `Enter` to check!"
      ]
    },
    {
      "cell_type": "markdown",
      "metadata": {
        "id": "PIRMT0yyitFj"
      },
      "source": [
        "You can have multiple comment lines in your code, including one after another, and dispersed throughout your code:"
      ]
    },
    {
      "cell_type": "code",
      "execution_count": null,
      "metadata": {
        "id": "7WmJpCkFitFj"
      },
      "outputs": [],
      "source": [
        "# comments, including this one which\n",
        "# spans multiple lines\n",
        "print(\"Hello, Andrew!\")\n",
        "# Follow up with an additional print command\n",
        "print(\"How is your day going?\")"
      ]
    },
    {
      "cell_type": "markdown",
      "metadata": {
        "id": "pnUKqCWkitFj"
      },
      "source": [
        "### 5. Making mistakes is no big deal!\n",
        "\n",
        "Run the code in the next cell to see an example of how Python responds to code with an error in it."
      ]
    },
    {
      "cell_type": "code",
      "source": [
        "# prompt: fix the error in the following code and explain what is the mistake in it\n",
        "# print(\"Hello, Andrew!)\n",
        "\n",
        "print(\"Hello, Andrew!\")"
      ],
      "metadata": {
        "id": "BYkcw3ttnEra"
      },
      "execution_count": null,
      "outputs": []
    },
    {
      "cell_type": "code",
      "source": [
        "# prompt: fix the error in the following code and explain what is the mistake in it\n",
        "# print(\"Hello, Andrew!)\n",
        "\n",
        "print(\"Hello, Andrew!\")"
      ],
      "metadata": {
        "id": "vYYcNxCmmrz3"
      },
      "execution_count": null,
      "outputs": []
    },
    {
      "cell_type": "code",
      "execution_count": 9,
      "metadata": {
        "id": "96mukh4MitFj",
        "outputId": "9a9a1ed4-2faa-45e2-e2ea-96f0ab4a3ebc",
        "colab": {
          "base_uri": "https://localhost:8080/",
          "height": 106
        }
      },
      "outputs": [
        {
          "output_type": "error",
          "ename": "SyntaxError",
          "evalue": "unterminated string literal (detected at line 1) (<ipython-input-9-9f1e1822da9c>, line 1)",
          "traceback": [
            "\u001b[0;36m  File \u001b[0;32m\"<ipython-input-9-9f1e1822da9c>\"\u001b[0;36m, line \u001b[0;32m1\u001b[0m\n\u001b[0;31m    print(\"Hello, Andrew!)\u001b[0m\n\u001b[0m          ^\u001b[0m\n\u001b[0;31mSyntaxError\u001b[0m\u001b[0;31m:\u001b[0m unterminated string literal (detected at line 1)\n"
          ]
        }
      ],
      "source": [
        "print(\"Hello, Andrew!)"
      ]
    },
    {
      "cell_type": "markdown",
      "metadata": {
        "id": "rrVlsMtzitFk"
      },
      "source": [
        "You can ask the chatbot to help you fix this code:\n",
        "1. Open the chatbot\n",
        "2. Enter the following prompt:\n",
        "\n",
        "       What is wrong with this code, and how do I fix it?\n",
        "\n",
        "       print(\"Hello, Andrew!)\n",
        "\n",
        "Fix the code in the next cell based on the chatbot's recommendation and run the cell using `Shift`+`Enter` to see if the fix worked!"
      ]
    },
    {
      "cell_type": "code",
      "execution_count": 10,
      "metadata": {
        "id": "fzcTekTPitFk",
        "outputId": "f8507245-3fa5-4159-abb2-336f3c4af215",
        "colab": {
          "base_uri": "https://localhost:8080/"
        }
      },
      "outputs": [
        {
          "output_type": "stream",
          "name": "stdout",
          "text": [
            "Hello, Andrew!\n"
          ]
        }
      ],
      "source": [
        "# Edit the code on the next line to correct the error\n",
        "print(\"Hello, Andrew!\")"
      ]
    },
    {
      "cell_type": "markdown",
      "metadata": {
        "id": "ii_rQ4P-itFk"
      },
      "source": [
        "### Practice for yourself!\n",
        "\n",
        "You can practice what you've learned in this lesson by trying out the code exercises below. For each one, follow the instructions in the comment line, then write your code on the next line below the comment. Once you are done, run your code by typing `Shift` + `Enter`. You can do this as many times as you like."
      ]
    },
    {
      "cell_type": "code",
      "source": [
        "# prompt: Write code that displays your favorite color\n",
        "\n",
        "print(\"my fvorite color is blue\")"
      ],
      "metadata": {
        "id": "4SqX6zgnndx_",
        "outputId": "56a61a06-e034-4e62-8791-50791c0c4ca3",
        "colab": {
          "base_uri": "https://localhost:8080/"
        }
      },
      "execution_count": 12,
      "outputs": [
        {
          "output_type": "stream",
          "name": "stdout",
          "text": [
            "my fvorite color is blue\n"
          ]
        }
      ]
    },
    {
      "cell_type": "code",
      "execution_count": null,
      "metadata": {
        "id": "rMQkrn21itFk"
      },
      "outputs": [],
      "source": [
        "# Write code that displays your favorite color"
      ]
    },
    {
      "cell_type": "code",
      "execution_count": null,
      "metadata": {
        "id": "8JWJGUs0itFl"
      },
      "outputs": [],
      "source": [
        "# Write code that answers the question \"How are you feeling today?\""
      ]
    },
    {
      "cell_type": "code",
      "execution_count": null,
      "metadata": {
        "id": "1Y5UiSboitFl"
      },
      "outputs": [],
      "source": [
        "# Alter your code from the previous cell so that it will cause an error when you run it"
      ]
    },
    {
      "cell_type": "code",
      "execution_count": null,
      "metadata": {
        "id": "FaIxBR66itFl"
      },
      "outputs": [],
      "source": [
        "# Ask an LLM to help you fix the error in the code in the previous cell (or fix yourself) and\n",
        "# then type the corrected code on the next line:"
      ]
    }
  ],
  "metadata": {
    "kernelspec": {
      "display_name": "Python 3 (ipykernel)",
      "language": "python",
      "name": "python3"
    },
    "language_info": {
      "codemirror_mode": {
        "name": "ipython",
        "version": 3
      },
      "file_extension": ".py",
      "mimetype": "text/x-python",
      "name": "python",
      "nbconvert_exporter": "python",
      "pygments_lexer": "ipython3",
      "version": "3.9.19"
    },
    "colab": {
      "provenance": [],
      "include_colab_link": true
    }
  },
  "nbformat": 4,
  "nbformat_minor": 0
}